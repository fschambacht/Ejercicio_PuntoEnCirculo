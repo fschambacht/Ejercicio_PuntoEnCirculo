{
  "nbformat": 4,
  "nbformat_minor": 0,
  "metadata": {
    "colab": {
      "name": "Ejercicio_PuntoEnCirculo.ipynb",
      "provenance": [],
      "authorship_tag": "ABX9TyO+lt4u7omzAJvaXZS70aIs",
      "include_colab_link": true
    },
    "kernelspec": {
      "name": "python3",
      "display_name": "Python 3"
    },
    "language_info": {
      "name": "python"
    }
  },
  "cells": [
    {
      "cell_type": "markdown",
      "metadata": {
        "id": "view-in-github",
        "colab_type": "text"
      },
      "source": [
        "<a href=\"https://colab.research.google.com/github/fschambacht/Ejercicio_PuntoEnCirculo/blob/main/Ejercicio_PuntoEnCirculo.ipynb\" target=\"_parent\"><img src=\"https://colab.research.google.com/assets/colab-badge.svg\" alt=\"Open In Colab\"/></a>"
      ]
    },
    {
      "cell_type": "code",
      "source": [
        "import math\n",
        "import matplotlib\n",
        "import matplotlib.pyplot as plt\n",
        "\n",
        "def point_in_cirle(x_2, y_2, radius_circle, x_1=0, y_1=0):\n",
        "    distance = math.sqrt((x_2-x_1)**2+(y_2-y_1)**2)\n",
        "    if radius_circle >= distance:\n",
        "        return f'point in {x_2, y_2} is inside the circle with a distance of border {radius_circle-distance}'\n",
        "    return f'point in {x_2, y_2} is outside the circle with extra distance to border {distance-radius_circle}'\n",
        "\n",
        "def ploit(x_2, y_2, radius_circle, x_1=0, y_1=0):\n",
        "    figure, axes = plt.subplots()\n",
        "    drawing_uncolored_circle = plt.Circle((x_1,y_1),radius_circle,fill=False)\n",
        "    drawing_point = plt.Circle((x_2,y_2),0.1)\n",
        "    axes.set_aspect(1)\n",
        "    plt.axis([min(x_1,x_2)-radius_circle,max(x_1,x_2)+radius_circle,min(y_1,y_2)-radius_circle,max(y_2,y_1)+radius_circle])\n",
        "    axes.add_artist(drawing_uncolored_circle)\n",
        "    axes.add_artist(drawing_point)\n",
        "    plt.title('Circle')\n",
        "    plt.show()\n",
        "\n",
        "if __name__ == '__main__':\n",
        "    x_1 = float(input('Enter the point x of circle: '))\n",
        "    y_1 = float(input('Enter the point y of circle: '))\n",
        "    radius_circle = float(input('Enter the radius of circle: '))\n",
        "    x_2 = float(input('Enter the point x: '))\n",
        "    y_2 = float(input('Enter the point y: '))\n",
        "    print(point_in_cirle(x_2, y_2, radius_circle, x_1, y_1))\n",
        "    ploit(x_2, y_2, radius_circle, x_1, y_1)\n"
      ],
      "metadata": {
        "colab": {
          "base_uri": "https://localhost:8080/",
          "height": 385
        },
        "id": "0YAaIUOUstoE",
        "outputId": "1cea7c93-ec9f-4e48-de37-0d7d03184bbc"
      },
      "execution_count": 112,
      "outputs": [
        {
          "output_type": "stream",
          "name": "stdout",
          "text": [
            "Enter the point x of circle: 6\n",
            "Enter the point y of circle: 7\n",
            "Enter the radius of circle: 5\n",
            "Enter the point x: 6\n",
            "Enter the point y: 8\n",
            "point in (6.0, 8.0) is inside the circle with a distance of border 4.0\n"
          ]
        },
        {
          "output_type": "display_data",
          "data": {
            "image/png": "[encoded data removed]",
            "text/plain": [
              "<Figure size 432x288 with 1 Axes>"
            ]
          },
          "metadata": {
            "needs_background": "light"
          }
        }
      ]
    }
  ]
}